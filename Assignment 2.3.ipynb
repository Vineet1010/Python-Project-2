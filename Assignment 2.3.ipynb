{
 "cells": [
  {
   "cell_type": "code",
   "execution_count": 14,
   "metadata": {},
   "outputs": [
    {
     "name": "stdout",
     "output_type": "stream",
     "text": [
      "98\n",
      "63\n",
      "23\n",
      "697\n",
      "136\n",
      "35\n",
      "9\n",
      "343\n",
      "23\n",
      "1\n",
      "142.8 219.589\n",
      "53.4 60.111\n"
     ]
    }
   ],
   "source": [
    "import pandas as pd\n",
    "\n",
    "li = []\n",
    "for i in range(0, 10):\n",
    "    x = int(input())\n",
    "    li.append(x)\n",
    "pop = pd.Series(li)\n",
    "mu = round(pop.mean(), 3)\n",
    "sigma = round(pop.std(), 3)\n",
    "print(mu, sigma)\n",
    "\n",
    "sample_size = 5\n",
    "sample = pop.sample(n = sample_size, random_state = 1)\n",
    "sample_mu = round(sample.mean(), 3)\n",
    "sample_sigma = round(sample.std(), 3)\n",
    "print(sample_mu, sample_sigma)"
   ]
  },
  {
   "cell_type": "code",
   "execution_count": 17,
   "metadata": {},
   "outputs": [
    {
     "name": "stdout",
     "output_type": "stream",
     "text": [
      "https://media-doselect.s3.amazonaws.com/generic/vq5GyV7PXn1Arv1jVxJggoYxZ/mpg.csv\n",
      "weight\n",
      "22.07\n",
      "34.815\n"
     ]
    }
   ],
   "source": [
    "import pandas as pd\n",
    "import numpy as np\n",
    "\n",
    "ds = pd.read_csv(input())\n",
    "column = str(input())\n",
    "pop = ds[column]\n",
    "mu = pop.mean()\n",
    "sigma = pop.std()\n",
    "\n",
    "sample_size = 200\n",
    "sample = pop.sample(n = sample_size, random_state = 1)\n",
    "sample_mu = sample.mean()\n",
    "sample_sigma = sample.std()\n",
    "diff_mu = round((sample_mu - mu), 3)\n",
    "diff_sigma = round((sample_sigma - sigma), 3)\n",
    "print(diff_mu)\n",
    "print(diff_sigma)"
   ]
  },
  {
   "cell_type": "code",
   "execution_count": 14,
   "metadata": {},
   "outputs": [
    {
     "name": "stdout",
     "output_type": "stream",
     "text": [
      "300\n",
      "0.02585\n",
      "0.30749 0.35918\n"
     ]
    }
   ],
   "source": [
    "from scipy import stats\n",
    "import math\n",
    "\n",
    "Total_order = 900\n",
    "cancelled = int(input())\n",
    "sample_proportion = cancelled / Total_order\n",
    "degree_of_freedom = 1 - sample_proportion\n",
    "standard_error = math.sqrt(sample_proportion*degree_of_freedom/Total_order)\n",
    "\n",
    "z_critical = stats.norm.ppf(q = 0.95)\n",
    "moe = z_critical * standard_error\n",
    "margin_of_error = round(moe, 5)\n",
    "print(margin_of_error)\n",
    "\n",
    "ci_low, ci_high = (sample_proportion - moe, sample_proportion + moe)\n",
    "confidence_interval_low = round(ci_low, 5)\n",
    "confidence_interval_high = round(ci_high, 5)\n",
    "print(confidence_interval_low, confidence_interval_high)"
   ]
  },
  {
   "cell_type": "code",
   "execution_count": 10,
   "metadata": {},
   "outputs": [
    {
     "name": "stdout",
     "output_type": "stream",
     "text": [
      "https://media-doselect.s3.amazonaws.com/generic/RkzkY87b8Y1QNRwG3QKwe94v/Property.csv\n",
      "price\n",
      "540088.142 367127.196\n",
      "515254.41 280175.923\n",
      "-0.676 1.645\n",
      "fail to reject the null hypothesis\n"
     ]
    }
   ],
   "source": [
    "import pandas as pd\n",
    "import numpy as np\n",
    "from scipy import stats\n",
    "\n",
    "ds = pd.read_csv(input())\n",
    "column = str(input())\n",
    "pop = ds[column]\n",
    "mu = round(pop.mean(), 3)\n",
    "sigma = round(pop.std(), 3)\n",
    "print(mu, sigma)\n",
    "\n",
    "sample_size = 100\n",
    "sample = pop.sample(n = sample_size, random_state = 4)\n",
    "sample_mu = round(sample.mean(), 3)\n",
    "sample_sigma = round(sample.std(), 3)\n",
    "print(sample_mu, sample_sigma)\n",
    "\n",
    "z_critical = round(stats.norm.ppf(q = 0.95), 3)\n",
    "SE = sigma/np.sqrt(sample_size)\n",
    "z_stat = round((sample_mu - mu) / SE, 3)\n",
    "print(z_stat, z_critical)\n",
    "\n",
    "if (z_stat < z_critical):\n",
    "    print('fail to reject the null hypothesis')\n",
    "elif (z_stat > z_critical):\n",
    "    print('reject the null hypothesis')"
   ]
  },
  {
   "cell_type": "code",
   "execution_count": 44,
   "metadata": {},
   "outputs": [
    {
     "name": "stdout",
     "output_type": "stream",
     "text": [
      "23\n",
      "56\n",
      "86\n",
      "99\n",
      "116\n",
      "294\n",
      "366\n",
      "0.00976\n",
      "there is a relationship\n"
     ]
    }
   ],
   "source": [
    "import pandas as pd\n",
    "import numpy as np\n",
    "from scipy import stats\n",
    "\n",
    "li1 = [763, 667, 593, 402, 348, 278, 123]\n",
    "sample1 = pd.Series(li1)\n",
    "\n",
    "li2 = []\n",
    "for i in range(0, 7):\n",
    "    x = int(input())\n",
    "    li2.append(x)\n",
    "sample2 = pd.Series(li2)\n",
    "\n",
    "ttest, pval = stats.ttest_ind(a = sample1, b = sample2)\n",
    "print(round(pval, 5))\n",
    "\n",
    "if (pval < 0.05):\n",
    "    print('there is a relationship')\n",
    "elif (pval > 0.05):\n",
    "    print('there is no relationship (independent)')\n",
    "else:\n",
    "    print('error')"
   ]
  },
  {
   "cell_type": "code",
   "execution_count": null,
   "metadata": {},
   "outputs": [],
   "source": [
    "23\n",
    "56\n",
    "86\n",
    "99\n",
    "116\n",
    "294\n",
    "366"
   ]
  }
 ],
 "metadata": {
  "kernelspec": {
   "display_name": "Python 3",
   "language": "python",
   "name": "python3"
  },
  "language_info": {
   "codemirror_mode": {
    "name": "ipython",
    "version": 3
   },
   "file_extension": ".py",
   "mimetype": "text/x-python",
   "name": "python",
   "nbconvert_exporter": "python",
   "pygments_lexer": "ipython3",
   "version": "3.7.6"
  }
 },
 "nbformat": 4,
 "nbformat_minor": 4
}
